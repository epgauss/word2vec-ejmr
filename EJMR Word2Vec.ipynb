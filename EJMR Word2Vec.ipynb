{
 "cells": [
  {
   "cell_type": "code",
   "execution_count": 3,
   "metadata": {
    "collapsed": false
   },
   "outputs": [],
   "source": [
    "from nltk.tokenize import word_tokenize\n",
    "\n",
    "with open('corpus_clean.txt', 'w') as corpus_clean_file:\n",
    "    with open('corpus.txt', 'r') as corpus_file:\n",
    "        for line in corpus_file:\n",
    "            corpus_clean_file.write('%s\\n' % ' '.join(word_tokenize(line.lower())).strip())"
   ]
  },
  {
   "cell_type": "code",
   "execution_count": 1,
   "metadata": {
    "collapsed": true
   },
   "outputs": [],
   "source": [
    "import logging, os, sys\n",
    "logger = logging.getLogger('root')\n",
    "program = os.path.basename(sys.argv[0])\n",
    "logger = logging.getLogger(program)\n",
    "logging.root.setLevel(level=logging.INFO)"
   ]
  },
  {
   "cell_type": "code",
   "execution_count": 2,
   "metadata": {
    "collapsed": false
   },
   "outputs": [],
   "source": [
    "import gensim.models.word2vec as word2vec\n",
    "from gensim.models.phrases import Phrases"
   ]
  },
  {
   "cell_type": "code",
   "execution_count": 3,
   "metadata": {
    "collapsed": true
   },
   "outputs": [],
   "source": [
    "sentences = word2vec.LineSentence('corpus_clean.txt')"
   ]
  },
  {
   "cell_type": "code",
   "execution_count": 4,
   "metadata": {
    "collapsed": false
   },
   "outputs": [],
   "source": [
    "bigram = Phrases(sentences)"
   ]
  },
  {
   "cell_type": "code",
   "execution_count": 14,
   "metadata": {
    "collapsed": false
   },
   "outputs": [
    {
     "name": "stdout",
     "output_type": "stream",
     "text": [
      "['ben_bernanke', 'handled', 'the', 'financial_crisis', 'well']\n"
     ]
    }
   ],
   "source": [
    "print(bigram['ben bernanke handled the financial crisis well'.split()])"
   ]
  },
  {
   "cell_type": "code",
   "execution_count": 15,
   "metadata": {
    "collapsed": false
   },
   "outputs": [
    {
     "name": "stdout",
     "output_type": "stream",
     "text": [
      "['i', 'was', 'a', 'research', 'assistant', 'for', 'emi_nakamura', 'and', 'jose', 'scheinkman', 'and', 'a', 'teaching', 'assistant', 'for', 'jon_steinsson']\n"
     ]
    }
   ],
   "source": [
    "print(bigram['i was a research assistant for emi nakamura and jose scheinkman and a teaching assistant for jon steinsson'.split()])"
   ]
  },
  {
   "cell_type": "code",
   "execution_count": 18,
   "metadata": {
    "collapsed": false
   },
   "outputs": [],
   "source": [
    "trigram = Phrases(bigram[sentences])"
   ]
  },
  {
   "cell_type": "code",
   "execution_count": 1,
   "metadata": {
    "collapsed": false
   },
   "outputs": [],
   "source": [
    "import pickle"
   ]
  },
  {
   "cell_type": "code",
   "execution_count": 31,
   "metadata": {
    "collapsed": true
   },
   "outputs": [],
   "source": [
    "pickle.dump(bigram, open('bigram.mdl', 'wb'))\n",
    "pickle.dump(trigram, open('trigram.mdl', 'wb'))"
   ]
  },
  {
   "cell_type": "code",
   "execution_count": 32,
   "metadata": {
    "collapsed": false
   },
   "outputs": [],
   "source": [
    "model = word2vec.Word2Vec(trigram[sentences], min_count=5, workers=8, iter=100, window=15, size=30, negative=25)"
   ]
  },
  {
   "cell_type": "code",
   "execution_count": 33,
   "metadata": {
    "collapsed": true
   },
   "outputs": [],
   "source": [
    "pickle.dump(model, open('model.mdl', 'wb'))"
   ]
  },
  {
   "cell_type": "code",
   "execution_count": 2,
   "metadata": {
    "collapsed": true
   },
   "outputs": [],
   "source": [
    "model = pickle.load(open('model.mdl', 'rb'))"
   ]
  },
  {
   "cell_type": "code",
   "execution_count": 19,
   "metadata": {
    "collapsed": false
   },
   "outputs": [
    {
     "data": {
      "text/plain": [
       "[('nyu', 0.9838486909866333),\n",
       " ('yale', 0.9804732203483582),\n",
       " ('ucla', 0.978080153465271),\n",
       " ('duke', 0.9648338556289673),\n",
       " ('berkeley', 0.9634361863136292),\n",
       " ('stanford', 0.9579249024391174),\n",
       " ('northwestern', 0.9535160660743713),\n",
       " ('penn', 0.9517619609832764),\n",
       " ('princeton', 0.9512814283370972),\n",
       " ('michigan', 0.950299859046936)]"
      ]
     },
     "execution_count": 19,
     "metadata": {},
     "output_type": "execute_result"
    }
   ],
   "source": [
    "model.most_similar('columbia')"
   ]
  },
  {
   "cell_type": "code",
   "execution_count": 21,
   "metadata": {
    "collapsed": false
   },
   "outputs": [
    {
     "data": {
      "text/plain": [
       "'paul_krugman'"
      ]
     },
     "execution_count": 21,
     "metadata": {},
     "output_type": "execute_result"
    }
   ],
   "source": [
    "model.doesnt_match(['emi_nakamura', 'jon_steinsson', 'paul_krugman'])"
   ]
  },
  {
   "cell_type": "code",
   "execution_count": 44,
   "metadata": {
    "collapsed": false
   },
   "outputs": [
    {
     "data": {
      "text/plain": [
       "[('nakamura', 0.8418679237365723),\n",
       " ('violante', 0.8117968440055847),\n",
       " ('ravn', 0.7730820775032043),\n",
       " ('v._v.', 0.771219789981842),\n",
       " ('atkeson', 0.770919919013977),\n",
       " (\"la'o\", 0.7674722075462341),\n",
       " ('heathcote', 0.767187774181366),\n",
       " ('koudijs', 0.7667756080627441),\n",
       " ('klenow', 0.7625858783721924),\n",
       " ('veldkamp', 0.7615987062454224)]"
      ]
     },
     "execution_count": 44,
     "metadata": {},
     "output_type": "execute_result"
    }
   ],
   "source": [
    "model.most_similar(positive=['steinsson', 'wife'], negative=['husband'])"
   ]
  },
  {
   "cell_type": "code",
   "execution_count": 29,
   "metadata": {
    "collapsed": false
   },
   "outputs": [
    {
     "data": {
      "text/plain": [
       "[('robert_solow', 0.825762152671814),\n",
       " ('joe_stiglitz', 0.8192896842956543),\n",
       " ('jeffrey_sachs', 0.8115170001983643),\n",
       " ('robert_barro', 0.8065564036369324),\n",
       " ('thomas_schelling', 0.8046103715896606),\n",
       " ('michael_spence', 0.8034214973449707),\n",
       " ('peter_diamond', 0.8017356395721436),\n",
       " ('james_m.', 0.7948982119560242),\n",
       " ('paul_krugman', 0.7892487049102783),\n",
       " ('gary_becker', 0.7839587330818176)]"
      ]
     },
     "execution_count": 29,
     "metadata": {},
     "output_type": "execute_result"
    }
   ],
   "source": [
    "model.most_similar(positive=['harvard', 'joseph_stiglitz'], negative=['columbia'])"
   ]
  },
  {
   "cell_type": "code",
   "execution_count": 50,
   "metadata": {
    "collapsed": false
   },
   "outputs": [
    {
     "data": {
      "text/plain": [
       "[('yale', 0.9437440037727356),\n",
       " ('northwestern', 0.9428758025169373),\n",
       " ('nyu', 0.9295594096183777),\n",
       " ('princeton', 0.9218418002128601),\n",
       " ('ucla', 0.921554684638977),\n",
       " ('duke', 0.9185867309570312),\n",
       " ('stanford', 0.9132179021835327),\n",
       " ('berkeley', 0.9058098793029785),\n",
       " ('ucsd', 0.9008874893188477),\n",
       " ('penn', 0.891625165939331)]"
      ]
     },
     "execution_count": 50,
     "metadata": {},
     "output_type": "execute_result"
    }
   ],
   "source": [
    "model.most_similar(positive=['columbia', 'new_haven'], negative=['nyc'])"
   ]
  },
  {
   "cell_type": "code",
   "execution_count": 74,
   "metadata": {
    "collapsed": false
   },
   "outputs": [
    {
     "data": {
      "text/plain": [
       "[('lorenzoni', 0.8792519569396973),\n",
       " ('klenow', 0.8697797060012817),\n",
       " ('scheuer', 0.8652044534683228),\n",
       " ('simsek', 0.8648983836174011),\n",
       " ('chetverikov', 0.8563185930252075),\n",
       " ('lagakos', 0.8513363599777222),\n",
       " ('tsyvinski', 0.8491485118865967),\n",
       " ('kamada', 0.8485604524612427),\n",
       " ('reguant', 0.8470732569694519),\n",
       " ('moll', 0.846955418586731)]"
      ]
     },
     "execution_count": 74,
     "metadata": {},
     "output_type": "execute_result"
    }
   ],
   "source": [
    "model.most_similar(positive=[\"la'o\"])"
   ]
  }
 ],
 "metadata": {
  "kernelspec": {
   "display_name": "Python 3",
   "language": "python",
   "name": "python3"
  },
  "language_info": {
   "codemirror_mode": {
    "name": "ipython",
    "version": 3
   },
   "file_extension": ".py",
   "mimetype": "text/x-python",
   "name": "python",
   "nbconvert_exporter": "python",
   "pygments_lexer": "ipython3",
   "version": "3.5.1"
  }
 },
 "nbformat": 4,
 "nbformat_minor": 0
}
